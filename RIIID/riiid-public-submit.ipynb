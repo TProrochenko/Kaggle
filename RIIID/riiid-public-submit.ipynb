{
 "cells": [
  {
   "cell_type": "code",
   "execution_count": 1,
   "metadata": {
    "execution": {
     "iopub.execute_input": "2021-01-07T23:10:31.050334Z",
     "iopub.status.busy": "2021-01-07T23:10:31.049536Z",
     "iopub.status.idle": "2021-01-07T23:10:31.056144Z",
     "shell.execute_reply": "2021-01-07T23:10:31.055576Z"
    },
    "papermill": {
     "duration": 0.034465,
     "end_time": "2021-01-07T23:10:31.056276",
     "exception": false,
     "start_time": "2021-01-07T23:10:31.021811",
     "status": "completed"
    },
    "tags": []
   },
   "outputs": [],
   "source": [
    "global_test = 2\n",
    "\n",
    "#1 - feature generation, #2 - submission"
   ]
  },
  {
   "cell_type": "code",
   "execution_count": 2,
   "metadata": {
    "execution": {
     "iopub.execute_input": "2021-01-07T23:10:31.100893Z",
     "iopub.status.busy": "2021-01-07T23:10:31.100053Z",
     "iopub.status.idle": "2021-01-07T23:10:32.546884Z",
     "shell.execute_reply": "2021-01-07T23:10:32.546111Z"
    },
    "papermill": {
     "duration": 1.471604,
     "end_time": "2021-01-07T23:10:32.547004",
     "exception": false,
     "start_time": "2021-01-07T23:10:31.075400",
     "status": "completed"
    },
    "tags": []
   },
   "outputs": [],
   "source": [
    "import numpy as np\n",
    "import pandas as pd\n",
    "import glob\n",
    "import riiideducation\n",
    "#from sklearn.linear_model import LogisticRegression\n",
    "#from sklearn.metrics import roc_auc_score\n",
    "import matplotlib.pyplot as plt\n",
    "#from sklearn.model_selection import train_test_split\n",
    "from tqdm import tqdm\n",
    "#from sklearn.preprocessing import StandardScaler\n",
    "#from sklearn.inspection import permutation_importance\n",
    "from catboost import CatBoostClassifier\n",
    "\n",
    "from sklearn.decomposition import PCA\n",
    "from sklearn.preprocessing import StandardScaler\n"
   ]
  },
  {
   "cell_type": "code",
   "execution_count": 3,
   "metadata": {
    "execution": {
     "iopub.execute_input": "2021-01-07T23:10:32.592749Z",
     "iopub.status.busy": "2021-01-07T23:10:32.592021Z",
     "iopub.status.idle": "2021-01-07T23:10:32.595778Z",
     "shell.execute_reply": "2021-01-07T23:10:32.595107Z"
    },
    "papermill": {
     "duration": 0.029531,
     "end_time": "2021-01-07T23:10:32.595898",
     "exception": false,
     "start_time": "2021-01-07T23:10:32.566367",
     "status": "completed"
    },
    "tags": []
   },
   "outputs": [],
   "source": [
    "pd.options.display.max_rows = 100\n",
    "pd.options.display.max_columns = 100"
   ]
  },
  {
   "cell_type": "markdown",
   "metadata": {
    "papermill": {
     "duration": 0.01864,
     "end_time": "2021-01-07T23:10:32.633454",
     "exception": false,
     "start_time": "2021-01-07T23:10:32.614814",
     "status": "completed"
    },
    "tags": []
   },
   "source": [
    "## file access functions:"
   ]
  },
  {
   "cell_type": "code",
   "execution_count": 4,
   "metadata": {
    "execution": {
     "iopub.execute_input": "2021-01-07T23:10:32.675438Z",
     "iopub.status.busy": "2021-01-07T23:10:32.674434Z",
     "iopub.status.idle": "2021-01-07T23:10:32.690119Z",
     "shell.execute_reply": "2021-01-07T23:10:32.689315Z"
    },
    "papermill": {
     "duration": 0.03768,
     "end_time": "2021-01-07T23:10:32.690264",
     "exception": false,
     "start_time": "2021-01-07T23:10:32.652584",
     "status": "completed"
    },
    "tags": []
   },
   "outputs": [],
   "source": [
    "def df_to_np(df, filter_lectures:bool, convert_answers:bool):\n",
    "\n",
    "    tmstmp = (df['timestamp']/3600000).to_numpy(dtype = np.float32) \n",
    "    userid = df['user_id'].to_numpy()\n",
    "    ctntid = df['content_id'].to_numpy()\n",
    "    ctnttp = df['content_type_id'].to_numpy()\n",
    "    contnr = df['task_container_id'].to_numpy()\n",
    "    \n",
    "    pqtime = np.nan_to_num(df['prior_question_elapsed_time']\\\n",
    "                           .to_numpy(dtype = np.float32), nan = float32m1)\n",
    "    \n",
    "    pqexpl = df['prior_question_had_explanation']\\\n",
    "             .to_numpy(dtype = np.int8, na_value = 1)\n",
    "    \n",
    "    if convert_answers:\n",
    "        usrans = df['user_answer'].to_numpy()              \n",
    "        anscor = df['answered_correctly'].to_numpy()\n",
    "           \n",
    "    if filter_lectures:\n",
    "        f = ctnttp == int8_0\n",
    "        \n",
    "        if convert_answers: \n",
    "            return tmstmp[f], userid[f], ctntid[f], ctnttp[f],\\\n",
    "            contnr[f], pqtime[f], pqexpl[f], usrans[f], anscor[f]\n",
    "        else:\n",
    "            return tmstmp[f], userid[f], ctntid[f], ctnttp[f],\\\n",
    "            contnr[f], pqtime[f], pqexpl[f]\n",
    "    else:\n",
    "        return tmstmp, userid, ctntid, ctnttp, contnr, pqtime, pqexpl, usrans, anscor"
   ]
  },
  {
   "cell_type": "markdown",
   "metadata": {
    "papermill": {
     "duration": 0.029508,
     "end_time": "2021-01-07T23:10:32.741289",
     "exception": false,
     "start_time": "2021-01-07T23:10:32.711781",
     "status": "completed"
    },
    "tags": []
   },
   "source": [
    "## initialization functions - run once:"
   ]
  },
  {
   "cell_type": "code",
   "execution_count": 5,
   "metadata": {
    "execution": {
     "iopub.execute_input": "2021-01-07T23:10:32.793618Z",
     "iopub.status.busy": "2021-01-07T23:10:32.792348Z",
     "iopub.status.idle": "2021-01-07T23:10:32.808384Z",
     "shell.execute_reply": "2021-01-07T23:10:32.809118Z"
    },
    "papermill": {
     "duration": 0.042671,
     "end_time": "2021-01-07T23:10:32.809378",
     "exception": false,
     "start_time": "2021-01-07T23:10:32.766707",
     "status": "completed"
    },
    "tags": []
   },
   "outputs": [],
   "source": [
    "def question_maps():\n",
    "    \n",
    "    global qestn_tagsmap, qestn_partmap, qestn_bndlmap, qestn_cansmap\n",
    "    \n",
    "    df = pd.read_csv('../input/riiid-test-answer-prediction/questions.csv')\n",
    "\n",
    "    tags_list = df['tags'].replace(np.nan, 188).to_list()\n",
    "\n",
    "    qestn_tagsmap = [[np.uint8(y) for y in str(x).split()] for x in tags_list]\n",
    "    qestn_partmap = df['part'].to_numpy().astype(np.uint8)-uint8_1\n",
    "    qestn_bndlmap = df['bundle_id'].to_numpy().astype(np.uint16)\n",
    "    qestn_cansmap = df['correct_answer'].to_numpy().astype(np.uint8)"
   ]
  },
  {
   "cell_type": "code",
   "execution_count": 6,
   "metadata": {
    "execution": {
     "iopub.execute_input": "2021-01-07T23:10:32.872993Z",
     "iopub.status.busy": "2021-01-07T23:10:32.872163Z",
     "iopub.status.idle": "2021-01-07T23:10:32.880702Z",
     "shell.execute_reply": "2021-01-07T23:10:32.880055Z"
    },
    "papermill": {
     "duration": 0.047693,
     "end_time": "2021-01-07T23:10:32.880848",
     "exception": false,
     "start_time": "2021-01-07T23:10:32.833155",
     "status": "completed"
    },
    "tags": []
   },
   "outputs": [],
   "source": [
    "def lecture_maps():\n",
    "    \n",
    "    global lectr_tag_map, lectr_partmap, lectr_typemap\n",
    "\n",
    "    df = pd.read_csv('../input/riiid-test-answer-prediction/lectures.csv')\n",
    "\n",
    "    df_lecture_id = df.lecture_id\\\n",
    "    .to_numpy(dtype = np.int16)\n",
    "\n",
    "    df_tag  = df.tag\\\n",
    "    .to_numpy(dtype=np.uint8)\n",
    "\n",
    "    df_part = df.part\\\n",
    "    .to_numpy(dtype=np.uint8)\n",
    "\n",
    "    df_type_of = df.type_of\\\n",
    "    .replace({'starter':0,'concept':1,'solving question':2,'intention':3})\\\n",
    "    .to_numpy(dtype = np.uint8)\n",
    "\n",
    "    lectr_tag_map = np.zeros(np.iinfo(np.int16).max, dtype = np.uint8)\n",
    "    lectr_partmap = np.zeros(np.iinfo(np.int16).max, dtype = np.uint8)\n",
    "    lectr_typemap = np.zeros(np.iinfo(np.int16).max, dtype = np.uint8)\n",
    "\n",
    "\n",
    "    for i in range(len(df)):\n",
    "        lectr_tag_map[df_lecture_id[i]] = df_tag[i]\n",
    "        lectr_partmap[df_lecture_id[i]] = df_part[i]\n",
    "        lectr_typemap[df_lecture_id[i]] = df_type_of[i]"
   ]
  },
  {
   "cell_type": "code",
   "execution_count": 7,
   "metadata": {
    "execution": {
     "iopub.execute_input": "2021-01-07T23:10:32.940819Z",
     "iopub.status.busy": "2021-01-07T23:10:32.936913Z",
     "iopub.status.idle": "2021-01-07T23:10:32.943527Z",
     "shell.execute_reply": "2021-01-07T23:10:32.944033Z"
    },
    "papermill": {
     "duration": 0.040508,
     "end_time": "2021-01-07T23:10:32.944212",
     "exception": false,
     "start_time": "2021-01-07T23:10:32.903704",
     "status": "completed"
    },
    "tags": []
   },
   "outputs": [],
   "source": [
    "def get_cor_table():\n",
    "     \n",
    "    max_neigbrs = 1000\n",
    "    \n",
    "    global cor_table\n",
    "    \n",
    "    map1 = np.load('../input/content-correlation-100to300/ctnt_map.npy')\n",
    "    map2 = np.load('../input/content-correlation/ctnt_map.npy')\n",
    "\n",
    "    cor1 = np.load('../input/content-correlation-100to300/result.npy')\n",
    "    cor2 = np.load('../input/content-correlation/result.npy')\n",
    "\n",
    "    cor = (cor2[map2[:max_content],:,:][:,map2[:max_content],:].astype(np.uint32)\n",
    "          +cor1[map1[:max_content],:,:][:,map1[:max_content],:].astype(np.uint32))\n",
    "\n",
    "    #correction for correlated content size, \n",
    "    #giving more weight to questions with a lot of answers\n",
    "    size = np.log(np.log(cor[:,:,0].sum(axis = 1)+1))\n",
    "    size = size/size.max()/10\n",
    "    corrs = (cor[:,:,0]+5)/(cor[:,:,1]*1.7+cor[:,:,0]+10)+size\n",
    "    \n",
    "    cor_table = corrs.argsort(axis = 1)[:,-max_neigbrs:].astype(np.int32)\n"
   ]
  },
  {
   "cell_type": "code",
   "execution_count": 8,
   "metadata": {
    "execution": {
     "iopub.execute_input": "2021-01-07T23:10:32.994302Z",
     "iopub.status.busy": "2021-01-07T23:10:32.993396Z",
     "iopub.status.idle": "2021-01-07T23:10:32.997856Z",
     "shell.execute_reply": "2021-01-07T23:10:32.997235Z"
    },
    "papermill": {
     "duration": 0.03347,
     "end_time": "2021-01-07T23:10:32.998013",
     "exception": false,
     "start_time": "2021-01-07T23:10:32.964543",
     "status": "completed"
    },
    "tags": []
   },
   "outputs": [],
   "source": [
    "def get_content_answer_shares():\n",
    "    \n",
    "    global ca_shares_all\n",
    "\n",
    "    columns = ['user_id',\n",
    "                   'content_id',\n",
    "                   'content_type_id',\n",
    "                   'user_answer',\n",
    "                   'answered_correctly']\n",
    "\n",
    "    df = get_train_large(t_part=99, columns=columns) \n",
    "    df = df.loc[df.content_type_id == 0, df.columns != 'content_type_id']\n",
    "\n",
    "    ca_shares_all = pd.pivot_table(df,\n",
    "                                   values='answered_correctly',\n",
    "                                   index='content_id',\n",
    "                                   columns='user_answer',\n",
    "                                   aggfunc='count',\n",
    "                                   fill_value=0).to_numpy()+1\n",
    "    \n",
    "    ca_shares_all = (ca_shares_all.T/ca_shares_all.sum(axis = 1)).T.astype(np.float32)"
   ]
  },
  {
   "cell_type": "code",
   "execution_count": 9,
   "metadata": {
    "execution": {
     "iopub.execute_input": "2021-01-07T23:10:33.046218Z",
     "iopub.status.busy": "2021-01-07T23:10:33.045553Z",
     "iopub.status.idle": "2021-01-07T23:10:33.048789Z",
     "shell.execute_reply": "2021-01-07T23:10:33.049311Z"
    },
    "papermill": {
     "duration": 0.031585,
     "end_time": "2021-01-07T23:10:33.049507",
     "exception": false,
     "start_time": "2021-01-07T23:10:33.017922",
     "status": "completed"
    },
    "tags": []
   },
   "outputs": [],
   "source": [
    "def get_content_first_answer_mean():\n",
    "    \n",
    "    global ctnt_fam\n",
    "    \n",
    "    columns = ['user_id',\n",
    "            'new_order',\n",
    "            'answered_correctly',\n",
    "            'content_id',\n",
    "            'content_type_id']\n",
    "        \n",
    "    df = get_train_large(t_part = 99, columns = columns)\n",
    "\n",
    "    df = df\\\n",
    "    .loc[df.content_type_id==0, df.columns!='content_type_id']\\\n",
    "    .sort_values(by = 'new_order')\n",
    "\n",
    "    df = df.groupby(['user_id','content_id']).first()\n",
    "\n",
    "    df = df.groupby('content_id').answered_correctly.mean().sort_index()\n",
    "    \n",
    "    ctnt_fam = df.to_numpy(dtype = np.float32)"
   ]
  },
  {
   "cell_type": "code",
   "execution_count": 10,
   "metadata": {
    "execution": {
     "iopub.execute_input": "2021-01-07T23:10:33.101624Z",
     "iopub.status.busy": "2021-01-07T23:10:33.100532Z",
     "iopub.status.idle": "2021-01-07T23:10:33.103875Z",
     "shell.execute_reply": "2021-01-07T23:10:33.103306Z"
    },
    "papermill": {
     "duration": 0.034357,
     "end_time": "2021-01-07T23:10:33.104001",
     "exception": false,
     "start_time": "2021-01-07T23:10:33.069644",
     "status": "completed"
    },
    "tags": []
   },
   "outputs": [],
   "source": [
    "def get_ctnt_enc():\n",
    "    \n",
    "    global ctnt_enc\n",
    "    \n",
    "    qestn_tagsmap_ohe = np.zeros((len(qestn_tagsmap), 189), dtype = np.bool)\n",
    "\n",
    "    for i,j in enumerate(qestn_tagsmap):\n",
    "        for k in j:\n",
    "            qestn_tagsmap_ohe[i,k] = True\n",
    "    \n",
    "    \n",
    "    tags_comps = StandardScaler().fit_transform(\n",
    "        PCA(n_components=3, random_state=0).fit_transform(qestn_tagsmap_ohe)\n",
    "    )\n",
    "\n",
    "    corr_comps = StandardScaler().fit_transform(\n",
    "        PCA(n_components=9, random_state=0).fit_transform(cor_table)\n",
    "    )\n",
    "\n",
    "    \n",
    "    comb_comps = np.concatenate([tags_comps,corr_comps], axis = 1)\n",
    "\n",
    "    ctnt_enc = PCA(n_components=1, random_state=0)\\\n",
    "    .fit_transform(comb_comps).astype(np.float32).ravel()"
   ]
  },
  {
   "cell_type": "code",
   "execution_count": 11,
   "metadata": {
    "execution": {
     "iopub.execute_input": "2021-01-07T23:10:33.156880Z",
     "iopub.status.busy": "2021-01-07T23:10:33.153119Z",
     "iopub.status.idle": "2021-01-07T23:10:33.160599Z",
     "shell.execute_reply": "2021-01-07T23:10:33.159955Z"
    },
    "papermill": {
     "duration": 0.036412,
     "end_time": "2021-01-07T23:10:33.160726",
     "exception": false,
     "start_time": "2021-01-07T23:10:33.124314",
     "status": "completed"
    },
    "tags": []
   },
   "outputs": [],
   "source": [
    "def get_ac_pqexpl():\n",
    "    \n",
    "    global ac_pqexpl\n",
    "    \n",
    "    ac_pqexpl = np.zeros((max_content, 2, 2), dtype = np.int32)\n",
    "    \n",
    "    columns = ['content_id',\n",
    "               'prior_question_had_explanation',\n",
    "               'content_type_id',\n",
    "               'answered_correctly']\n",
    "\n",
    "    df = get_train_large(t_part = 99, columns = columns)\n",
    "\n",
    "    df = df\\\n",
    "    .loc[df.content_type_id==0]\\\n",
    "    .groupby(['content_id','prior_question_had_explanation'])\\\n",
    "    .agg({'answered_correctly':['sum','count']})\\\n",
    "    .droplevel(0, axis  =1).reset_index()\\\n",
    "    .fillna(1)\n",
    "\n",
    "    ctntid = df['content_id'].to_numpy()\n",
    "    pqexpl = df['prior_question_had_explanation'].to_numpy(dtype = np.int8)\n",
    "    anssum = df['sum'].to_numpy(dtype = np.int32)\n",
    "    anscnt = df['count'].to_numpy(dtype = np.int32)     \n",
    "    ansfls = anscnt - anssum\n",
    "\n",
    "    for r in range(len(df)):\n",
    "        ac_pqexpl[ctntid[r],pqexpl[r],1] += ansfls[r]\n",
    "        ac_pqexpl[ctntid[r],pqexpl[r],0] += anssum[r]"
   ]
  },
  {
   "cell_type": "markdown",
   "metadata": {
    "papermill": {
     "duration": 0.020393,
     "end_time": "2021-01-07T23:10:33.202088",
     "exception": false,
     "start_time": "2021-01-07T23:10:33.181695",
     "status": "completed"
    },
    "tags": []
   },
   "source": [
    "## pretrain functions, run every part:"
   ]
  },
  {
   "cell_type": "code",
   "execution_count": 12,
   "metadata": {
    "execution": {
     "iopub.execute_input": "2021-01-07T23:10:33.251632Z",
     "iopub.status.busy": "2021-01-07T23:10:33.250654Z",
     "iopub.status.idle": "2021-01-07T23:10:33.253385Z",
     "shell.execute_reply": "2021-01-07T23:10:33.253956Z"
    },
    "papermill": {
     "duration": 0.030563,
     "end_time": "2021-01-07T23:10:33.254194",
     "exception": false,
     "start_time": "2021-01-07T23:10:33.223631",
     "status": "completed"
    },
    "tags": []
   },
   "outputs": [],
   "source": [
    "def get_train_small(t_part:int):\n",
    "\n",
    "    all_files  = glob.glob('../input/riiid-parquets-v5/df_*')\n",
    "    read_files = [file for file in all_files if file.endswith('_'+str(t_part))]\n",
    "    df = pd.read_parquet(read_files[0])\n",
    "    return df"
   ]
  },
  {
   "cell_type": "code",
   "execution_count": 13,
   "metadata": {
    "execution": {
     "iopub.execute_input": "2021-01-07T23:10:33.303937Z",
     "iopub.status.busy": "2021-01-07T23:10:33.303063Z",
     "iopub.status.idle": "2021-01-07T23:10:33.307181Z",
     "shell.execute_reply": "2021-01-07T23:10:33.306594Z"
    },
    "papermill": {
     "duration": 0.032356,
     "end_time": "2021-01-07T23:10:33.307318",
     "exception": false,
     "start_time": "2021-01-07T23:10:33.274962",
     "status": "completed"
    },
    "tags": []
   },
   "outputs": [],
   "source": [
    "def get_train_large(t_part:int, columns:list):\n",
    "    \n",
    "    all_files  = glob.glob('../input/riiid-parquets-v5/df_*')\n",
    "    read_files = [file for file in all_files if not file.endswith('_'+str(t_part))]\n",
    "    df = pd.concat([pd.read_parquet(file, columns = columns) for file in read_files])\n",
    "    return df"
   ]
  },
  {
   "cell_type": "code",
   "execution_count": 14,
   "metadata": {
    "execution": {
     "iopub.execute_input": "2021-01-07T23:10:33.357430Z",
     "iopub.status.busy": "2021-01-07T23:10:33.356751Z",
     "iopub.status.idle": "2021-01-07T23:10:33.360647Z",
     "shell.execute_reply": "2021-01-07T23:10:33.359968Z"
    },
    "papermill": {
     "duration": 0.03203,
     "end_time": "2021-01-07T23:10:33.360783",
     "exception": false,
     "start_time": "2021-01-07T23:10:33.328753",
     "status": "completed"
    },
    "tags": []
   },
   "outputs": [],
   "source": [
    "def get_train_groups(t_part:int):\n",
    "    \n",
    "    df = get_train_small(t_part)\n",
    "\n",
    "    groups = []\n",
    "    for i in np.arange(0, 10000, dtype = np.int16):\n",
    "        group = df.loc[df.new_order == i].reset_index(drop = True)\n",
    "        groups.append(group)\n",
    "    \n",
    "    return groups"
   ]
  },
  {
   "cell_type": "code",
   "execution_count": 15,
   "metadata": {
    "execution": {
     "iopub.execute_input": "2021-01-07T23:10:33.414797Z",
     "iopub.status.busy": "2021-01-07T23:10:33.414066Z",
     "iopub.status.idle": "2021-01-07T23:10:33.417524Z",
     "shell.execute_reply": "2021-01-07T23:10:33.416961Z"
    },
    "papermill": {
     "duration": 0.036037,
     "end_time": "2021-01-07T23:10:33.417645",
     "exception": false,
     "start_time": "2021-01-07T23:10:33.381608",
     "status": "completed"
    },
    "tags": []
   },
   "outputs": [],
   "source": [
    "def get_arrays_and_lists():\n",
    "    \n",
    "    global next_uplace,\\\n",
    "    au_ctntid,\\\n",
    "    a_userid,\\\n",
    "    lu_seq,\\\n",
    "    lu_seq_part,\\\n",
    "    au_anshar,\\\n",
    "    au_ctshar,\\\n",
    "    user_map,\\\n",
    "    au_tmstmp_prv\n",
    "    \n",
    "    au_ctntid     = np.zeros((max_users, max_content, 3), dtype = np.int8)\n",
    "    a_userid      = np.zeros((max_users, 2), dtype = np.int16)\n",
    "    \n",
    "    au_anshar     = np.zeros((max_users, 2), dtype = np.float32) \n",
    "    au_ctshar     = np.zeros((max_users, 2), dtype = np.float32) \n",
    "\n",
    "    user_map      = np.zeros(np.iinfo(np.int32).max,dtype = np.int32)\n",
    "    next_uplace   = np.int32(1)\n",
    "\n",
    "    au_tmstmp_prv = np.zeros((max_users,3), dtype = np.float32)\n",
    "    \n",
    "    lu_seq        = [[] for _ in range(max_users)]\n",
    "    lu_seq_part   = [[[],[],[],[],[],[],[]] for _ in range(max_users)]\n"
   ]
  },
  {
   "cell_type": "markdown",
   "metadata": {
    "papermill": {
     "duration": 0.020397,
     "end_time": "2021-01-07T23:10:33.458629",
     "exception": false,
     "start_time": "2021-01-07T23:10:33.438232",
     "status": "completed"
    },
    "tags": []
   },
   "source": [
    "## iterational functions, run every iteration:"
   ]
  },
  {
   "cell_type": "code",
   "execution_count": 16,
   "metadata": {
    "execution": {
     "iopub.execute_input": "2021-01-07T23:10:33.507155Z",
     "iopub.status.busy": "2021-01-07T23:10:33.506432Z",
     "iopub.status.idle": "2021-01-07T23:10:33.509175Z",
     "shell.execute_reply": "2021-01-07T23:10:33.509645Z"
    },
    "papermill": {
     "duration": 0.030255,
     "end_time": "2021-01-07T23:10:33.509811",
     "exception": false,
     "start_time": "2021-01-07T23:10:33.479556",
     "status": "completed"
    },
    "tags": []
   },
   "outputs": [],
   "source": [
    "def update_user_map(unique_users):\n",
    "    \n",
    "    global next_uplace\n",
    "    \n",
    "    for u in unique_users:\n",
    "        if user_map[u] == int32_0:\n",
    "            user_map[u] = next_uplace\n",
    "            next_uplace += int32_1"
   ]
  },
  {
   "cell_type": "code",
   "execution_count": 17,
   "metadata": {
    "execution": {
     "iopub.execute_input": "2021-01-07T23:10:33.569270Z",
     "iopub.status.busy": "2021-01-07T23:10:33.566573Z",
     "iopub.status.idle": "2021-01-07T23:10:33.573188Z",
     "shell.execute_reply": "2021-01-07T23:10:33.572575Z"
    },
    "papermill": {
     "duration": 0.042196,
     "end_time": "2021-01-07T23:10:33.573339",
     "exception": false,
     "start_time": "2021-01-07T23:10:33.531143",
     "status": "completed"
    },
    "tags": []
   },
   "outputs": [],
   "source": [
    "def update_arrays(df):\n",
    "\n",
    "    tmstmp,userid,ctntid,ctnttp,contnr,pqtime,pqexpl,usrans,anscor = df_to_np(df,False,True)\n",
    "    \n",
    "    for r in range(len(df)):\n",
    "        \n",
    "        user_ = user_map[userid[r]]\n",
    "\n",
    "        if tmstmp[r] > au_tmstmp_prv[user_,0]:\n",
    "            au_tmstmp_prv[user_,2] = au_tmstmp_prv[user_,1]\n",
    "            au_tmstmp_prv[user_,1] = au_tmstmp_prv[user_,0]\n",
    "            au_tmstmp_prv[user_,0] = tmstmp[r]\n",
    "  \n",
    "        if ctnttp[r] == int8_0:\n",
    "            \n",
    "            lsu   = lu_seq[user_]\n",
    "            lsup  = lu_seq_part[user_][qestn_partmap[ctntid[r]]]\n",
    "            \n",
    "            bndl_ = qestn_bndlmap[ctntid[r]]\n",
    "            ctnt_ = ctntid[r]\n",
    "                        \n",
    "            if len(lsu)>m: lsu.pop(0)\n",
    "            if len(lsup)>m: lsup.pop(0)\n",
    "            \n",
    "      \n",
    "            au_ctntid[user_,ctnt_,1]         += int8_1\n",
    "            au_ctntid[user_,ctnt_,2]          = usrans[r]\n",
    "            \n",
    "            \n",
    "            if anscor[r] == int8_1:\n",
    "                a_userid[user_,0]            += int16_1\n",
    "                au_ctntid[user_,ctnt_,0]      = int8_1\n",
    "                lsu.append(True)\n",
    "                lsup.append(True)\n",
    "                au_anshar[user_, 0]           += ca_shares_all[ctnt_,usrans[r]]\n",
    "                au_ctshar[user_, 0]           += ctnt_fam[ctnt_]\n",
    "                \n",
    "            else:\n",
    "                a_userid[user_,1]             += int16_1\n",
    "                au_ctntid[user_,ctnt_,0]       = int8_0\n",
    "                lsu.append(False)\n",
    "                lsup.append(False)\n",
    "                au_anshar[user_, 1]           += ca_shares_all[ctnt_,usrans[r]]\n",
    "                au_ctshar[user_, 1]           += ctnt_fam[ctnt_]\n"
   ]
  },
  {
   "cell_type": "code",
   "execution_count": 18,
   "metadata": {
    "execution": {
     "iopub.execute_input": "2021-01-07T23:10:33.642115Z",
     "iopub.status.busy": "2021-01-07T23:10:33.631595Z",
     "iopub.status.idle": "2021-01-07T23:10:33.654926Z",
     "shell.execute_reply": "2021-01-07T23:10:33.655428Z"
    },
    "papermill": {
     "duration": 0.060903,
     "end_time": "2021-01-07T23:10:33.655635",
     "exception": false,
     "start_time": "2021-01-07T23:10:33.594732",
     "status": "completed"
    },
    "tags": []
   },
   "outputs": [],
   "source": [
    "def get_features(df, is_test:bool):\n",
    "    \n",
    "    if is_test:\n",
    "        tmstmp,userid,ctntid,ctnttp,contnr,pqtime,pqexpl=\\\n",
    "        df_to_np(df,True,False)\n",
    "    else:\n",
    "        tmstmp,userid,ctntid,ctnttp,contnr,pqtime,pqexpl,usrans,anscor=\\\n",
    "        df_to_np(df,True,True)\n",
    "\n",
    "    user = user_map[userid]\n",
    "    part = qestn_partmap[ctntid]\n",
    "    userid_ctntid_ = au_ctntid[user,ctntid]  \n",
    "    \n",
    "    userid_ = a_userid[user,:]\n",
    "    userid_avg_ = (userid_[:,0]/(userid_[:,0]+userid_[:,1]+int16_1)).astype(np.float32)\n",
    "    \n",
    "    cp_ = ac_pqexpl[ctntid,pqexpl,:]\n",
    "    ctntid_pqexpl_avg_ = (cp_[:,0]/(cp_[:,0]+cp_[:,1]+int32_1)).astype(np.float32)\n",
    "    \n",
    "    \n",
    "    #based on answer and content solve probability\n",
    "    \n",
    "    uanshar_ = au_anshar[user, :]\n",
    "    #uanshar_slf = (uanshar_[:,0]/(uanshar_[:,0]+uanshar_[:,1]+e)).astype(np.float32)\n",
    "    #uanshar_cor = (uanshar_[:,0]/(userid_[:,0]+e)).astype(np.float32)\n",
    "    uanshar_fls = (uanshar_[:,1]/(userid_[:,1]+e)).astype(np.float32)\n",
    "    \n",
    "    uctshar_ = au_ctshar[user, :]\n",
    "    uctshar_slf = (uctshar_[:,0]/(uctshar_[:,0]+uctshar_[:,1]+e)).astype(np.float32)\n",
    "    uctshar_cor = (uctshar_[:,0]/(userid_[:,0]+e)).astype(np.float32)\n",
    "    uctshar_fls = (uctshar_[:,1]/(userid_[:,1]+e)).astype(np.float32)\n",
    "    \n",
    "    \n",
    "    #user features based on neighboring questions:\n",
    "    \n",
    "    correlation_ids = cor_table[ctntid]\n",
    "    neigh = au_ctntid[user.reshape(-1,1),correlation_ids,:]\n",
    "    \n",
    "    all_ans_cnt = np.count_nonzero(neigh[:,:,1],axis = 1).astype(np.int16)\n",
    "    cor_ans_cnt = np.count_nonzero(neigh[:,:,0],axis = 1).astype(np.int16)\n",
    "    fls_ans_cnt = all_ans_cnt - cor_ans_cnt\n",
    "    \n",
    "    neigh_ca_shrs_all = ca_shares_all[correlation_ids,neigh[:,:,2]]*(neigh[:,:,1]!=int8_0)\n",
    "    \n",
    "    cor_shrs_all = ((neigh_ca_shrs_all*(neigh[:,:,0]==int8_1)).sum(axis = 1)/\n",
    "                    (cor_ans_cnt+e)).astype(np.float32)\n",
    "    \n",
    "    fls_shrs_all = ((neigh_ca_shrs_all*(neigh[:,:,0]==int8_0)).sum(axis = 1)/\n",
    "                    (fls_ans_cnt+e)).astype(np.float32)\n",
    "\n",
    "    \n",
    "    #user features based on last n questions:\n",
    "    \n",
    "    lu_seq_        = [lu_seq[u] for u in user]\n",
    "    \n",
    "    lst_m_avg      = np.array(\n",
    "        [x.count(True)/(len(x)+e) for x in lu_seq_],\n",
    "        dtype = np.float32)\n",
    "    \n",
    "    lst_s_avg      = np.array(\n",
    "        [x[-s:].count(True)/(len(x[-s:])+e) for x in lu_seq_],\n",
    "        dtype = np.float32)\n",
    "       \n",
    "        \n",
    "    lu_seq_part_   = [lu_seq_part[u][part[_]] for _, u in enumerate(user)]\n",
    "    \n",
    "    lst_part_m_avg = np.array(\n",
    "        [x.count(True)/(len(x)+e) for x in lu_seq_part_],\n",
    "        dtype = np.float32)\n",
    "    \n",
    "    lst_part_s_avg = np.array(\n",
    "        [x[-s:].count(True)/(len(x[-s:])+e) for x in lu_seq_part_],\n",
    "        dtype = np.float32)\n",
    "\n",
    "\n",
    "\n",
    "    X = pd.DataFrame({\n",
    "        'part':part,\n",
    "        'prior_explanation':pqexpl,\n",
    "        'prior_elapsed_time':pqtime,\n",
    "        'content':ctntid,\n",
    "        'ctntent_encoded':ctnt_enc[ctntid],\n",
    "        'task_container':contnr,\n",
    "        \n",
    "        'time_to_cont_1':tmstmp - au_tmstmp_prv[user,0],\n",
    "        'time_to_cont_3':tmstmp - au_tmstmp_prv[user,2],\n",
    "        'time_cont1_to_cont2':au_tmstmp_prv[user,0] - au_tmstmp_prv[user,1],\n",
    "        'time_cont2_to_cont3':au_tmstmp_prv[user,1] - au_tmstmp_prv[user,2],\n",
    "        \n",
    "        'user_content_attempts':userid_ctntid_[:,1],\n",
    "        'user_content_last_1':userid_ctntid_[:,0],\n",
    "        \n",
    "        'user_part_last_m_avg':lst_part_m_avg, \n",
    "        'user_part_last_s_avg':lst_part_s_avg,\n",
    "        'user_last_m_avg':lst_m_avg,\n",
    "        'user_last_s_avg':lst_s_avg, \n",
    "\n",
    "        'content_explanation_avg':ctntid_pqexpl_avg_,\n",
    "        'content_first_answer_avg':ctnt_fam[ctntid],\n",
    "        'content_avg_time':ctnt_mtime[ctntid],\n",
    "\n",
    "        'user_relative_content_avg':uctshar_slf,        \n",
    "        'user_true_content_avg':uctshar_cor, \n",
    "        'user_false_content_avg':uctshar_fls,\n",
    "        'user_false_answer_avg':uanshar_fls,\n",
    "        \n",
    "        'neighbor_content_true_shares':cor_shrs_all,\n",
    "        'neighbor_content_false_shares':fls_shrs_all,\n",
    "    })\n",
    "    \n",
    "    if is_test:\n",
    "        return X\n",
    "    else:\n",
    "        return X, anscor\n"
   ]
  },
  {
   "cell_type": "markdown",
   "metadata": {
    "papermill": {
     "duration": 0.021258,
     "end_time": "2021-01-07T23:10:33.698409",
     "exception": false,
     "start_time": "2021-01-07T23:10:33.677151",
     "status": "completed"
    },
    "tags": []
   },
   "source": [
    "## execution:"
   ]
  },
  {
   "cell_type": "code",
   "execution_count": 19,
   "metadata": {
    "execution": {
     "iopub.execute_input": "2021-01-07T23:10:33.751032Z",
     "iopub.status.busy": "2021-01-07T23:10:33.750253Z",
     "iopub.status.idle": "2021-01-07T23:15:04.549555Z",
     "shell.execute_reply": "2021-01-07T23:15:04.550406Z"
    },
    "papermill": {
     "duration": 270.83064,
     "end_time": "2021-01-07T23:15:04.550668",
     "exception": false,
     "start_time": "2021-01-07T23:10:33.720028",
     "status": "completed"
    },
    "tags": []
   },
   "outputs": [
    {
     "name": "stdout",
     "output_type": "stream",
     "text": [
      "CPU times: user 3min 25s, sys: 38.7 s, total: 4min 3s\n",
      "Wall time: 4min 30s\n"
     ]
    }
   ],
   "source": [
    "%%time\n",
    "\n",
    "uint8_0 = np.uint8(0)\n",
    "uint8_1 = np.uint8(1)\n",
    "\n",
    "uint16_0 = np.uint16(0)\n",
    "uint16_1 = np.uint16(1)\n",
    "\n",
    "int8_0  = np.int8(0)\n",
    "int8_1  = np.int8(1)\n",
    "\n",
    "int16_0 = np.int16(0)\n",
    "int16_1 = np.int16(1)\n",
    "\n",
    "int32_0 = np.int32(0)\n",
    "int32_1 = np.int32(1)\n",
    "\n",
    "float32m1 = np.float32(-1)\n",
    "\n",
    "max_users   = 450000\n",
    "max_content = 13523\n",
    "\n",
    "m = 100\n",
    "s = 20\n",
    "e = 0.1\n",
    "\n",
    "question_maps()\n",
    "lecture_maps()\n",
    "get_cor_table()\n",
    "get_content_answer_shares()\n",
    "get_ac_pqexpl()\n",
    "get_content_first_answer_mean()\n",
    "get_ctnt_enc()\n",
    "\n",
    "ctnt_mtime = np.load('../input/question-duration/question_mean_time.npy')"
   ]
  },
  {
   "cell_type": "code",
   "execution_count": 20,
   "metadata": {
    "execution": {
     "iopub.execute_input": "2021-01-07T23:15:04.606207Z",
     "iopub.status.busy": "2021-01-07T23:15:04.605287Z",
     "iopub.status.idle": "2021-01-07T23:15:04.608715Z",
     "shell.execute_reply": "2021-01-07T23:15:04.609306Z"
    },
    "papermill": {
     "duration": 0.033226,
     "end_time": "2021-01-07T23:15:04.609453",
     "exception": false,
     "start_time": "2021-01-07T23:15:04.576227",
     "status": "completed"
    },
    "tags": []
   },
   "outputs": [
    {
     "name": "stdout",
     "output_type": "stream",
     "text": [
      "CPU times: user 20 µs, sys: 4 µs, total: 24 µs\n",
      "Wall time: 8.11 µs\n"
     ]
    }
   ],
   "source": [
    "%%time\n",
    "\n",
    "if global_test == 1:\n",
    "\n",
    "    for i in tqdm(range(10)):\n",
    "\n",
    "        X = []\n",
    "        y = []\n",
    "\n",
    "        get_arrays_and_lists()\n",
    "        groups = get_train_groups(i)\n",
    "\n",
    "        for df in groups:\n",
    "\n",
    "            update_user_map(df.user_id.unique())\n",
    "            X_, y_ = get_features(df,False)\n",
    "            X.append(X_)\n",
    "            y.append(y_)\n",
    "            update_arrays(df)\n",
    "        \n",
    "        del(groups)\n",
    "\n",
    "        X = pd.concat(X)\n",
    "        y = np.concatenate(y)\n",
    "\n",
    "        X.to_parquet('X_'+str(i))\n",
    "        np.save('y_'+str(i), y)"
   ]
  },
  {
   "cell_type": "code",
   "execution_count": 21,
   "metadata": {
    "execution": {
     "iopub.execute_input": "2021-01-07T23:15:04.658217Z",
     "iopub.status.busy": "2021-01-07T23:15:04.657182Z",
     "iopub.status.idle": "2021-01-08T00:07:18.716006Z",
     "shell.execute_reply": "2021-01-08T00:07:18.713380Z"
    },
    "papermill": {
     "duration": 3134.084248,
     "end_time": "2021-01-08T00:07:18.716175",
     "exception": false,
     "start_time": "2021-01-07T23:15:04.631927",
     "status": "completed"
    },
    "tags": []
   },
   "outputs": [
    {
     "name": "stderr",
     "output_type": "stream",
     "text": [
      "100%|██████████| 10/10 [52:10<00:00, 313.09s/it]"
     ]
    },
    {
     "name": "stdout",
     "output_type": "stream",
     "text": [
      "CPU times: user 51min 22s, sys: 43.8 s, total: 52min 6s\n",
      "Wall time: 52min 14s\n"
     ]
    },
    {
     "name": "stderr",
     "output_type": "stream",
     "text": [
      "\n"
     ]
    }
   ],
   "source": [
    "%%time\n",
    "\n",
    "if global_test == 2:\n",
    "    \n",
    "    get_arrays_and_lists()\n",
    "    \n",
    "    for i in tqdm(range(10)):\n",
    "\n",
    "        groups = get_train_groups(i)\n",
    "        \n",
    "\n",
    "        for df in groups:\n",
    "\n",
    "            update_user_map(df.user_id.unique())\n",
    "            update_arrays(df)\n",
    "\n",
    "        del(groups)\n"
   ]
  },
  {
   "cell_type": "code",
   "execution_count": 22,
   "metadata": {
    "execution": {
     "iopub.execute_input": "2021-01-08T00:07:18.951390Z",
     "iopub.status.busy": "2021-01-08T00:07:18.950599Z",
     "iopub.status.idle": "2021-01-08T00:07:18.953764Z",
     "shell.execute_reply": "2021-01-08T00:07:18.953085Z"
    },
    "papermill": {
     "duration": 0.20994,
     "end_time": "2021-01-08T00:07:18.953883",
     "exception": false,
     "start_time": "2021-01-08T00:07:18.743943",
     "status": "completed"
    },
    "tags": []
   },
   "outputs": [],
   "source": [
    "if global_test == 2:\n",
    "    \n",
    "    model1 = CatBoostClassifier()\n",
    "    model1.load_model(fname='../input/riiid-model/cb1')\n",
    "    \n",
    "    model2 = CatBoostClassifier()\n",
    "    model2.load_model(fname='../input/riiid-model/cb2')"
   ]
  },
  {
   "cell_type": "code",
   "execution_count": 23,
   "metadata": {
    "execution": {
     "iopub.execute_input": "2021-01-08T00:07:19.016683Z",
     "iopub.status.busy": "2021-01-08T00:07:19.015975Z",
     "iopub.status.idle": "2021-01-08T00:07:19.020069Z",
     "shell.execute_reply": "2021-01-08T00:07:19.019392Z"
    },
    "papermill": {
     "duration": 0.038384,
     "end_time": "2021-01-08T00:07:19.020186",
     "exception": false,
     "start_time": "2021-01-08T00:07:18.981802",
     "status": "completed"
    },
    "tags": []
   },
   "outputs": [],
   "source": [
    "if global_test == 2:\n",
    "    \n",
    "    env = riiideducation.make_env()\n",
    "    iter_test = env.iter_test()"
   ]
  },
  {
   "cell_type": "code",
   "execution_count": 24,
   "metadata": {
    "execution": {
     "iopub.execute_input": "2021-01-08T00:07:19.089941Z",
     "iopub.status.busy": "2021-01-08T00:07:19.089261Z",
     "iopub.status.idle": "2021-01-08T00:07:19.686234Z",
     "shell.execute_reply": "2021-01-08T00:07:19.686828Z"
    },
    "papermill": {
     "duration": 0.637984,
     "end_time": "2021-01-08T00:07:19.687007",
     "exception": false,
     "start_time": "2021-01-08T00:07:19.049023",
     "status": "completed"
    },
    "tags": []
   },
   "outputs": [
    {
     "name": "stdout",
     "output_type": "stream",
     "text": [
      "CPU times: user 276 ms, sys: 55.1 ms, total: 331 ms\n",
      "Wall time: 595 ms\n"
     ]
    }
   ],
   "source": [
    "%%time\n",
    "\n",
    "if global_test == 2:\n",
    "    \n",
    "    old_df = None\n",
    "\n",
    "    for (new_df, sample) in iter_test:\n",
    "        \n",
    "        \n",
    "        if old_df is not None:\n",
    "            old_df['user_answer'] = np.array(\n",
    "                [int(x) for x in new_df.iloc[0,9][1:-1].split(', ')], dtype = np.int8)\n",
    "            old_df['answered_correctly'] = np.array(\n",
    "                [int(x) for x in new_df.iloc[0,8][1:-1].split(', ')], dtype = np.int8)\n",
    "            \n",
    "            update_arrays(old_df)\n",
    "            \n",
    "            \n",
    "        old_df = new_df.iloc[:,:8].copy()\n",
    "        update_user_map(new_df.user_id.unique())\n",
    "        X = get_features(new_df, True)\n",
    "\n",
    "        sample['answered_correctly'] =  (\n",
    "            model1.predict_proba(X)[:,1]/2 + model2.predict_proba(X)[:,1]/2\n",
    "        )\n",
    "        \n",
    "        env.predict(sample)"
   ]
  }
 ],
 "metadata": {
  "kernelspec": {
   "display_name": "Python 3",
   "language": "python",
   "name": "python3"
  },
  "language_info": {
   "codemirror_mode": {
    "name": "ipython",
    "version": 3
   },
   "file_extension": ".py",
   "mimetype": "text/x-python",
   "name": "python",
   "nbconvert_exporter": "python",
   "pygments_lexer": "ipython3",
   "version": "3.7.6"
  },
  "papermill": {
   "duration": 3416.280154,
   "end_time": "2021-01-08T00:07:21.984889",
   "environment_variables": {},
   "exception": null,
   "input_path": "__notebook__.ipynb",
   "output_path": "__notebook__.ipynb",
   "parameters": {},
   "start_time": "2021-01-07T23:10:25.704735",
   "version": "2.1.0"
  }
 },
 "nbformat": 4,
 "nbformat_minor": 4
}
